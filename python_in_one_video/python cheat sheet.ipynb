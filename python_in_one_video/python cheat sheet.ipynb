{
 "cells": [
  {
   "cell_type": "code",
   "execution_count": 48,
   "metadata": {
    "collapsed": false
   },
   "outputs": [
    {
     "data": {
      "text/plain": [
       "33"
      ]
     },
     "execution_count": 48,
     "metadata": {},
     "output_type": "execute_result"
    }
   ],
   "source": [
    "import random\n",
    "import sys\n",
    "import os\n",
    "99//3"
   ]
  },
  {
   "cell_type": "code",
   "execution_count": 5,
   "metadata": {
    "collapsed": false
   },
   "outputs": [
    {
     "data": {
      "text/plain": [
       "33.0"
      ]
     },
     "execution_count": 5,
     "metadata": {},
     "output_type": "execute_result"
    }
   ],
   "source": [
    "99/3"
   ]
  },
  {
   "cell_type": "code",
   "execution_count": 7,
   "metadata": {
    "collapsed": false
   },
   "outputs": [
    {
     "name": "stdout",
     "output_type": "stream",
     "text": [
      "I like the quote \"Always remember your unique,  just\n",
      "like everyone else\" \n"
     ]
    }
   ],
   "source": [
    "quote = \"\\\"Always remember your unique,\"\n",
    "multi_line_quote = ''' just\n",
    "like everyone else\" '''\n",
    "print(\"%s %s %s\" % ('I like the quote', quote, multi_line_quote))"
   ]
  },
  {
   "cell_type": "code",
   "execution_count": 9,
   "metadata": {
    "collapsed": false
   },
   "outputs": [
    {
     "name": "stdout",
     "output_type": "stream",
     "text": [
      "I don't like newlines\n"
     ]
    }
   ],
   "source": [
    "# To keep from printing newlines use end=\"\"\n",
    "print(\"I don't like \",end=\"\")\n",
    "print(\"newlines\")"
   ]
  },
  {
   "cell_type": "code",
   "execution_count": 13,
   "metadata": {
    "collapsed": false
   },
   "outputs": [
    {
     "data": {
      "text/plain": [
       "[['Wash Car', 'Pick up Kids', 'Cash Check'],\n",
       " ['Juice', 'Tomatoes', 'Potatoes', 'Bananas']]"
      ]
     },
     "execution_count": 13,
     "metadata": {},
     "output_type": "execute_result"
    }
   ],
   "source": [
    "grocery_list = ['Juice', 'Tomatoes', 'Potatoes', 'Bananas']\n",
    "other_events = ['Wash Car', 'Pick up Kids', 'Cash Check']\n",
    "# You can put any data type in a a list including a list\n",
    "to_do_list = [other_events, grocery_list]\n",
    "to_do_list\n"
   ]
  },
  {
   "cell_type": "code",
   "execution_count": 14,
   "metadata": {
    "collapsed": false
   },
   "outputs": [
    {
     "data": {
      "text/plain": [
       "[['Wash Car', 'Pick up Kids', 'Cash Check'],\n",
       " ['Juice', 'Tomatoes', 'Potatoes', 'Bananas', 'onions']]"
      ]
     },
     "execution_count": 14,
     "metadata": {},
     "output_type": "execute_result"
    }
   ],
   "source": [
    "grocery_list.append('onions')\n",
    "to_do_list"
   ]
  },
  {
   "cell_type": "code",
   "execution_count": 15,
   "metadata": {
    "collapsed": false
   },
   "outputs": [
    {
     "data": {
      "text/plain": [
       "[['Wash Car', 'Pick up Kids', 'Cash Check'],\n",
       " ['Juice', 'Pickle', 'Tomatoes', 'Potatoes', 'Bananas', 'onions']]"
      ]
     },
     "execution_count": 15,
     "metadata": {},
     "output_type": "execute_result"
    }
   ],
   "source": [
    "grocery_list.insert(1, \"Pickle\")\n",
    "to_do_list"
   ]
  },
  {
   "cell_type": "code",
   "execution_count": 16,
   "metadata": {
    "collapsed": false
   },
   "outputs": [
    {
     "data": {
      "text/plain": [
       "[['Wash Car', 'Pick up Kids', 'Cash Check'],\n",
       " ['Juice', 'Tomatoes', 'Potatoes', 'Bananas', 'onions']]"
      ]
     },
     "execution_count": 16,
     "metadata": {},
     "output_type": "execute_result"
    }
   ],
   "source": [
    "grocery_list.remove(\"Pickle\")\n",
    "to_do_list"
   ]
  },
  {
   "cell_type": "code",
   "execution_count": 17,
   "metadata": {
    "collapsed": false
   },
   "outputs": [
    {
     "data": {
      "text/plain": [
       "[['Wash Car', 'Pick up Kids', 'Cash Check'],\n",
       " ['Bananas', 'Juice', 'Potatoes', 'Tomatoes', 'onions']]"
      ]
     },
     "execution_count": 17,
     "metadata": {},
     "output_type": "execute_result"
    }
   ],
   "source": [
    "grocery_list.sort()\n",
    "to_do_list\n"
   ]
  },
  {
   "cell_type": "code",
   "execution_count": 18,
   "metadata": {
    "collapsed": false
   },
   "outputs": [
    {
     "data": {
      "text/plain": [
       "[['Wash Car', 'Pick up Kids', 'Cash Check'],\n",
       " ['onions', 'Tomatoes', 'Potatoes', 'Juice', 'Bananas']]"
      ]
     },
     "execution_count": 18,
     "metadata": {},
     "output_type": "execute_result"
    }
   ],
   "source": [
    "grocery_list.reverse()\n",
    "to_do_list\n"
   ]
  },
  {
   "cell_type": "code",
   "execution_count": 21,
   "metadata": {
    "collapsed": false
   },
   "outputs": [
    {
     "data": {
      "text/plain": [
       "[['Wash Car', 'Pick up Kids', 'Cash Check'],\n",
       " ['onions', 'Tomatoes', 'Potatoes']]"
      ]
     },
     "execution_count": 21,
     "metadata": {},
     "output_type": "execute_result"
    }
   ],
   "source": [
    "del grocery_list[3]\n",
    "to_do_list\n"
   ]
  },
  {
   "cell_type": "code",
   "execution_count": 22,
   "metadata": {
    "collapsed": false
   },
   "outputs": [
    {
     "data": {
      "text/plain": [
       "['Wash Car', 'Pick up Kids', 'Cash Check', 'onions', 'Tomatoes', 'Potatoes']"
      ]
     },
     "execution_count": 22,
     "metadata": {},
     "output_type": "execute_result"
    }
   ],
   "source": [
    "to_do_list = other_events + grocery_list\n",
    "to_do_list\n"
   ]
  },
  {
   "cell_type": "code",
   "execution_count": 23,
   "metadata": {
    "collapsed": false
   },
   "outputs": [
    {
     "data": {
      "text/plain": [
       "'Cash Check'"
      ]
     },
     "execution_count": 23,
     "metadata": {},
     "output_type": "execute_result"
    }
   ],
   "source": [
    "len(to_do_list)\n",
    "max(to_do_list)\n",
    "min(to_do_list)"
   ]
  },
  {
   "cell_type": "code",
   "execution_count": 27,
   "metadata": {
    "collapsed": false
   },
   "outputs": [
    {
     "data": {
      "text/plain": [
       "(3, 1, 4, 1, 5, 9)"
      ]
     },
     "execution_count": 27,
     "metadata": {},
     "output_type": "execute_result"
    }
   ],
   "source": [
    "# TUPLES -------------()\n",
    "# Values in a tuple can't change like lists\n",
    "\n",
    "pi_tuple = (3, 1, 4, 1, 5, 9)\n",
    "pi_tuple"
   ]
  },
  {
   "cell_type": "code",
   "execution_count": 25,
   "metadata": {
    "collapsed": false
   },
   "outputs": [
    {
     "data": {
      "text/plain": [
       "[3, 1, 4, 1, 5, 9]"
      ]
     },
     "execution_count": 25,
     "metadata": {},
     "output_type": "execute_result"
    }
   ],
   "source": [
    "# Convert tuple into a list\n",
    "new_tuple = list(pi_tuple)\n",
    "new_tuple"
   ]
  },
  {
   "cell_type": "code",
   "execution_count": 28,
   "metadata": {
    "collapsed": false
   },
   "outputs": [
    {
     "data": {
      "text/plain": [
       "('onions', 'Tomatoes', 'Potatoes')"
      ]
     },
     "execution_count": 28,
     "metadata": {},
     "output_type": "execute_result"
    }
   ],
   "source": [
    "new_list = tuple(grocery_list)\n",
    "new_list"
   ]
  },
  {
   "cell_type": "code",
   "execution_count": 34,
   "metadata": {
    "collapsed": false
   },
   "outputs": [
    {
     "data": {
      "text/plain": [
       "{'Captain Cold': 'Leonard Snart',\n",
       " 'Fiddler': 'Isaac Bowin',\n",
       " 'Mirror Master': 'Sam Scudder',\n",
       " 'Pied Piper': 'Thomas Peterson',\n",
       " 'Weather Wizard': 'Mark Mardon'}"
      ]
     },
     "execution_count": 34,
     "metadata": {},
     "output_type": "execute_result"
    }
   ],
   "source": [
    "# DICTIONARY or MAP -------------{}\n",
    "# Made up of values with a unique key for each value\n",
    "# Similar to lists, but you can't join dicts with a +\n",
    "\n",
    "super_villains = {'Fiddler' : 'Isaac Bowin',\n",
    "                  'Captain Cold' : 'Leonard Snart',\n",
    "                  'Weather Wizard' : 'Mark Mardon',\n",
    "                  'Mirror Master' : 'Sam Scudder',\n",
    "                  'Pied Piper' : 'Thomas Peterson'}\n",
    "super_villains"
   ]
  },
  {
   "cell_type": "code",
   "execution_count": 31,
   "metadata": {
    "collapsed": false
   },
   "outputs": [
    {
     "data": {
      "text/plain": [
       "'Leonard Snart'"
      ]
     },
     "execution_count": 31,
     "metadata": {},
     "output_type": "execute_result"
    }
   ],
   "source": [
    "super_villains['Captain Cold']"
   ]
  },
  {
   "cell_type": "code",
   "execution_count": 35,
   "metadata": {
    "collapsed": false
   },
   "outputs": [
    {
     "data": {
      "text/plain": [
       "{'Captain Cold': 'Leonard Snart',\n",
       " 'Mirror Master': 'Sam Scudder',\n",
       " 'Pied Piper': 'Thomas Peterson',\n",
       " 'Weather Wizard': 'Mark Mardon'}"
      ]
     },
     "execution_count": 35,
     "metadata": {},
     "output_type": "execute_result"
    }
   ],
   "source": [
    "del super_villains['Fiddler']\n",
    "super_villains"
   ]
  },
  {
   "cell_type": "code",
   "execution_count": 37,
   "metadata": {
    "collapsed": false
   },
   "outputs": [
    {
     "data": {
      "text/plain": [
       "{'Captain Cold': 'Leonard Snart',\n",
       " 'Mirror Master': 'Sam Scudder',\n",
       " 'Pied Piper': 'Hartley Rathaway',\n",
       " 'Weather Wizard': 'Mark Mardon'}"
      ]
     },
     "execution_count": 37,
     "metadata": {},
     "output_type": "execute_result"
    }
   ],
   "source": [
    "# Replace a value\n",
    "super_villains['Pied Piper'] = 'Hartley Rathaway'\n",
    "super_villains"
   ]
  },
  {
   "cell_type": "code",
   "execution_count": 38,
   "metadata": {
    "collapsed": false
   },
   "outputs": [
    {
     "data": {
      "text/plain": [
       "4"
      ]
     },
     "execution_count": 38,
     "metadata": {},
     "output_type": "execute_result"
    }
   ],
   "source": [
    "len(super_villains)"
   ]
  },
  {
   "cell_type": "code",
   "execution_count": 39,
   "metadata": {
    "collapsed": false
   },
   "outputs": [
    {
     "name": "stdout",
     "output_type": "stream",
     "text": [
      "Hartley Rathaway\n"
     ]
    }
   ],
   "source": [
    "# Get the value for the passed key\n",
    "print(super_villains.get(\"Pied Piper\"))"
   ]
  },
  {
   "cell_type": "code",
   "execution_count": 40,
   "metadata": {
    "collapsed": false
   },
   "outputs": [
    {
     "name": "stdout",
     "output_type": "stream",
     "text": [
      "dict_keys(['Pied Piper', 'Weather Wizard', 'Captain Cold', 'Mirror Master'])\n"
     ]
    }
   ],
   "source": [
    "# Get a list of dictionary keys\n",
    "print(super_villains.keys())"
   ]
  },
  {
   "cell_type": "code",
   "execution_count": 41,
   "metadata": {
    "collapsed": false
   },
   "outputs": [
    {
     "name": "stdout",
     "output_type": "stream",
     "text": [
      "dict_values(['Hartley Rathaway', 'Mark Mardon', 'Leonard Snart', 'Sam Scudder'])\n"
     ]
    }
   ],
   "source": [
    "# Get a list of dictionary values\n",
    "print(super_villains.values())"
   ]
  },
  {
   "cell_type": "code",
   "execution_count": 42,
   "metadata": {
    "collapsed": false
   },
   "outputs": [
    {
     "name": "stdout",
     "output_type": "stream",
     "text": [
      "You are old enough to drive a car\n"
     ]
    }
   ],
   "source": [
    "age=18\n",
    "if age >= 21 :\n",
    "    print('You are old enough to drive a tractor trailer')\n",
    "elif age >= 16:\n",
    "    print('You are old enough to drive a car')\n",
    "else :\n",
    "    print('You are not old enough to drive')"
   ]
  },
  {
   "cell_type": "code",
   "execution_count": 43,
   "metadata": {
    "collapsed": false
   },
   "outputs": [
    {
     "name": "stdout",
     "output_type": "stream",
     "text": [
      "You get a birthday party\n"
     ]
    }
   ],
   "source": [
    "if ((age >= 1) and (age <= 18)):\n",
    "    print(\"You get a birthday party\")\n",
    "elif (age == 21) or (age >= 65):\n",
    "    print(\"You get a birthday party\")\n",
    "elif not(age == 30):\n",
    "    print(\"You don't get a birthday party\")\n",
    "else:\n",
    "    print(\"You get a birthday party yeah\")"
   ]
  },
  {
   "cell_type": "code",
   "execution_count": 44,
   "metadata": {
    "collapsed": false
   },
   "outputs": [
    {
     "name": "stdout",
     "output_type": "stream",
     "text": [
      "0  1  2  3  4  5  6  7  8  9  \n",
      "\n"
     ]
    }
   ],
   "source": [
    "for x in range(0, 10):\n",
    "    print(x , ' ', end=\"\")\n",
    "\n",
    "print('\\n')"
   ]
  },
  {
   "cell_type": "code",
   "execution_count": 45,
   "metadata": {
    "collapsed": false
   },
   "outputs": [
    {
     "name": "stdout",
     "output_type": "stream",
     "text": [
      "Juice\n",
      "Tomatoes\n",
      "Potatoes\n",
      "Bananas\n"
     ]
    }
   ],
   "source": [
    "grocery_list = ['Juice', 'Tomatoes', 'Potatoes', 'Bananas']\n",
    "\n",
    "for y in grocery_list:\n",
    "    print(y)"
   ]
  },
  {
   "cell_type": "code",
   "execution_count": 46,
   "metadata": {
    "collapsed": false
   },
   "outputs": [
    {
     "name": "stdout",
     "output_type": "stream",
     "text": [
      "1\n",
      "2\n",
      "3\n",
      "10\n",
      "20\n",
      "30\n",
      "100\n",
      "200\n",
      "300\n"
     ]
    }
   ],
   "source": [
    "num_list =[[1,2,3],[10,20,30],[100,200,300]];\n",
    "\n",
    "for x in range(0,3):\n",
    "    for y in range(0,3):\n",
    "        print(num_list[x][y])"
   ]
  },
  {
   "cell_type": "code",
   "execution_count": 49,
   "metadata": {
    "collapsed": false
   },
   "outputs": [
    {
     "name": "stdout",
     "output_type": "stream",
     "text": [
      "71\n",
      "39\n",
      "78\n",
      "73\n",
      "69\n",
      "58\n",
      "80\n",
      "55\n",
      "93\n",
      "31\n",
      "59\n",
      "73\n",
      "27\n",
      "82\n",
      "65\n",
      "63\n",
      "69\n",
      "33\n"
     ]
    }
   ],
   "source": [
    "# WHILE LOOPS -------------\n",
    "# While loops are used when you don't know ahead of time how many\n",
    "# times you'll have to loop\n",
    "random_num = random.randrange(0,100)\n",
    "\n",
    "while (random_num != 15):\n",
    "    print(random_num)\n",
    "    random_num = random.randrange(0,100)"
   ]
  },
  {
   "cell_type": "code",
   "execution_count": 50,
   "metadata": {
    "collapsed": false
   },
   "outputs": [
    {
     "name": "stdout",
     "output_type": "stream",
     "text": [
      "Hello \n"
     ]
    }
   ],
   "source": [
    "# Stores everything typed up until ENTER\n",
    "name = sys.stdin.readline()\n",
    "\n",
    "print('Hello', name)"
   ]
  },
  {
   "cell_type": "code",
   "execution_count": 51,
   "metadata": {
    "collapsed": false
   },
   "outputs": [
    {
     "name": "stdout",
     "output_type": "stream",
     "text": [
      "Floor\n",
      "I'll catch you if you fall - The \n"
     ]
    }
   ],
   "source": [
    "# A string is a series of characters surrounded by ' or \"\n",
    "long_string = \"I'll catch you if you fall - The Floor\"\n",
    "# Get the last 5 characters\n",
    "print(long_string[-5:])\n",
    "\n",
    "# Everything up to the last 5 characters\n",
    "print(long_string[:-5])"
   ]
  },
  {
   "cell_type": "code",
   "execution_count": 52,
   "metadata": {
    "collapsed": false
   },
   "outputs": [
    {
     "name": "stdout",
     "output_type": "stream",
     "text": [
      "I'll be there\n"
     ]
    }
   ],
   "source": [
    "print(long_string[:4] + \" be there\")"
   ]
  },
  {
   "cell_type": "code",
   "execution_count": 53,
   "metadata": {
    "collapsed": false
   },
   "outputs": [
    {
     "name": "stdout",
     "output_type": "stream",
     "text": [
      "X is my favorite letter and my number 1 number is 0.14000\n"
     ]
    }
   ],
   "source": [
    "# String formatting\n",
    "print(\"%c is my %s letter and my number %d number is %.5f\" % ('X', 'favorite', 1, .14))"
   ]
  },
  {
   "cell_type": "code",
   "execution_count": 54,
   "metadata": {
    "collapsed": false
   },
   "outputs": [
    {
     "name": "stdout",
     "output_type": "stream",
     "text": [
      "33\n"
     ]
    }
   ],
   "source": [
    "# Returns the index of the start of the string\n",
    "# case sensitive\n",
    "print(long_string.find(\"Floor\"))"
   ]
  },
  {
   "cell_type": "code",
   "execution_count": 55,
   "metadata": {
    "collapsed": false
   },
   "outputs": [
    {
     "name": "stdout",
     "output_type": "stream",
     "text": [
      "False\n",
      "False\n",
      "38\n",
      "I'll catch you if you fall - The Ground\n",
      "I'll catch you if you fall - The Floor\n",
      "[\"I'll\", 'catch', 'you', 'if', 'you', 'fall', '-', 'The', 'Floor']\n"
     ]
    }
   ],
   "source": [
    "# Returns true if all characters are letters ' isn't a letter\n",
    "print(long_string.isalpha())\n",
    "\n",
    "# Returns true if all characters are numbers\n",
    "print(long_string.isalnum())\n",
    "\n",
    "# Returns the string length\n",
    "print(len(long_string))\n",
    "\n",
    "# Replace the first word with the second (Add a number to replace more)\n",
    "print(long_string.replace(\"Floor\", \"Ground\"))\n",
    "\n",
    "# Remove white space from front and end\n",
    "print(long_string.strip())\n",
    "\n",
    "# Split a string into a list based on the delimiter you provide\n",
    "quote_list = long_string.split(\" \")\n",
    "print(quote_list)"
   ]
  },
  {
   "cell_type": "code",
   "execution_count": 56,
   "metadata": {
    "collapsed": false
   },
   "outputs": [
    {
     "name": "stdout",
     "output_type": "stream",
     "text": [
      "wb\n",
      "test.txt\n",
      "Write me to the file\n",
      "\n"
     ]
    }
   ],
   "source": [
    "# Overwrite or create a file for writing\n",
    "test_file = open(\"test.txt\", \"wb\")\n",
    "\n",
    "# Get the file mode used\n",
    "print(test_file.mode)\n",
    "\n",
    "# Get the files name\n",
    "print(test_file.name)\n",
    "\n",
    "# Write text to a file with a newline\n",
    "test_file.write(bytes(\"Write me to the file\\n\", 'UTF-8'))\n",
    "\n",
    "# Close the file\n",
    "test_file.close()\n",
    "\n",
    "# Opens a file for reading and writing\n",
    "test_file = open(\"test.txt\", \"r+\")\n",
    "\n",
    "# Read text from the file\n",
    "text_in_file = test_file.read()\n",
    "\n",
    "print(text_in_file)\n",
    "\n",
    "# Delete the file\n",
    "os.remove(\"test.txt\")"
   ]
  },
  {
   "cell_type": "code",
   "execution_count": 57,
   "metadata": {
    "collapsed": true
   },
   "outputs": [],
   "source": [
    "# CLASSES AND OBJECTS -------------\n",
    "# The concept of OOP allows us to model real world things using code\n",
    "# Every object has attributes (color, height, weight) which are object variables\n",
    "# Every object has abilities (walk, talk, eat) which are object functions\n",
    "\n",
    "class Animal:\n",
    "    # None signifies the lack of a value\n",
    "    # You can make a variable private by starting it with __\n",
    "    __name = None\n",
    "    __height = None\n",
    "    __weight = None\n",
    "    __sound = None\n",
    "\n",
    "    # The constructor is called to set up or initialize an object\n",
    "    # self allows an object to refer to itself inside of the class\n",
    "    def __init__(self, name, height, weight, sound):\n",
    "        self.__name = name\n",
    "        self.__height = height\n",
    "        self.__weight = weight\n",
    "        self.__sound = sound\n",
    "\n",
    "    def set_name(self, name):\n",
    "        self.__name = name\n",
    "\n",
    "    def set_height(self, height):\n",
    "        self.__height = height\n",
    "\n",
    "    def set_weight(self, height):\n",
    "        self.__height = height\n",
    "\n",
    "    def set_sound(self, sound):\n",
    "        self.__sound = sound\n",
    "\n",
    "    def get_name(self):\n",
    "        return self.__name\n",
    "\n",
    "    def get_height(self):\n",
    "        return str(self.__height)\n",
    "\n",
    "    def get_weight(self):\n",
    "        return str(self.__weight)\n",
    "\n",
    "    def get_sound(self):\n",
    "        return self.__sound\n",
    "\n",
    "    def get_type(self):\n",
    "        print(\"Animal\")\n",
    "\n",
    "    def toString(self):\n",
    "        return \"{} is {} cm tall and {} kilograms and says {}\".format(self.__name, self.__height, self.__weight, self.__sound)\n"
   ]
  },
  {
   "cell_type": "code",
   "execution_count": 59,
   "metadata": {
    "collapsed": false
   },
   "outputs": [
    {
     "name": "stdout",
     "output_type": "stream",
     "text": [
      "Whiskers is 33 cm tall and 10 kilograms and says Meow\n"
     ]
    }
   ],
   "source": [
    "# How to create a Animal object\n",
    "cat = Animal('Whiskers', 33, 10, 'Meow')\n",
    "print(cat.toString())"
   ]
  },
  {
   "cell_type": "code",
   "execution_count": 60,
   "metadata": {
    "collapsed": true
   },
   "outputs": [],
   "source": [
    "# INHERITANCE -------------\n",
    "# You can inherit all of the variables and methods from another class\n",
    "\n",
    "class Dog(Animal):\n",
    "    __owner = None\n",
    "\n",
    "    def __init__(self, name, height, weight, sound, owner):\n",
    "        self.__owner = owner\n",
    "        self.__animal_type = None\n",
    "\n",
    "        # How to call the super class constructor\n",
    "        super(Dog, self).__init__(name, height, weight, sound)\n",
    "\n",
    "    def set_owner(self, owner):\n",
    "        self.__owner = owner\n",
    "\n",
    "    def get_owner(self):\n",
    "        return self.__owner\n",
    "\n",
    "    def get_type(self):\n",
    "        print (\"Dog\")\n",
    "\n",
    "    # We can overwrite functions in the super class\n",
    "    def toString(self):\n",
    "        return \"{} is {} cm tall and {} kilograms and says {}. His owner is {}\".format(self.get_name(), self.get_height(), self.get_weight(), self.get_sound(), self.__owner)\n",
    "\n",
    "    # You don't have to require attributes to be sent\n",
    "    # This allows for method overloading\n",
    "    def multiple_sounds(self, how_many=None):\n",
    "        if how_many is None:\n",
    "            print(self.get_sound)\n",
    "        else:\n",
    "            print(self.get_sound() * how_many)\n"
   ]
  },
  {
   "cell_type": "code",
   "execution_count": 61,
   "metadata": {
    "collapsed": false
   },
   "outputs": [
    {
     "name": "stdout",
     "output_type": "stream",
     "text": [
      "Spot is 53 cm tall and 27 kilograms and says Ruff. His owner is Derek\n",
      "Animal\n",
      "Dog\n",
      "RuffRuffRuffRuff\n"
     ]
    }
   ],
   "source": [
    "spot = Dog(\"Spot\", 53, 27, \"Ruff\", \"Derek\")\n",
    "\n",
    "print(spot.toString())\n",
    "\n",
    "# Polymorphism allows user to refer to objects as their super class\n",
    "# and the correct functions are called automatically\n",
    "\n",
    "class AnimalTesting:\n",
    "    def get_type(self, animal):\n",
    "        animal.get_type()\n",
    "\n",
    "test_animals = AnimalTesting()\n",
    "\n",
    "test_animals.get_type(cat)\n",
    "test_animals.get_type(spot)\n",
    "\n",
    "spot.multiple_sounds(4)\n"
   ]
  },
  {
   "cell_type": "code",
   "execution_count": null,
   "metadata": {
    "collapsed": true
   },
   "outputs": [],
   "source": []
  }
 ],
 "metadata": {
  "kernelspec": {
   "display_name": "Python 3",
   "language": "python",
   "name": "python3"
  },
  "language_info": {
   "codemirror_mode": {
    "name": "ipython",
    "version": 3
   },
   "file_extension": ".py",
   "mimetype": "text/x-python",
   "name": "python",
   "nbconvert_exporter": "python",
   "pygments_lexer": "ipython3",
   "version": "3.4.3"
  }
 },
 "nbformat": 4,
 "nbformat_minor": 0
}
